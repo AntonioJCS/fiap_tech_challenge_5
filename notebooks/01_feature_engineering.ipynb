{
 "cells": [
  {
   "cell_type": "code",
   "execution_count": 1,
   "id": "0ce6c37b-4d8f-4044-a1dd-59d2bcb29975",
   "metadata": {},
   "outputs": [],
   "source": [
    "import json\n",
    "import pandas as pd\n",
    "import numpy as np\n",
    "from sklearn.feature_extraction.text import TfidfVectorizer\n",
    "from sklearn.model_selection import train_test_split\n",
    "from sklearn.ensemble import RandomForestClassifier\n",
    "from sklearn.metrics import accuracy_score, f1_score\n",
    "import nltk\n",
    "from nltk.corpus import stopwords\n",
    "from nltk.tokenize import word_tokenize\n",
    "import string"
   ]
  },
  {
   "cell_type": "markdown",
   "id": "90772815-ad51-4315-9c98-4c7cb7905cc2",
   "metadata": {},
   "source": [
    "## Modelagem e Normalização dos dados de treino"
   ]
  },
  {
   "cell_type": "markdown",
   "id": "a51de33e-1fdf-423a-8f72-269131ef2dd2",
   "metadata": {},
   "source": [
    "#### Lendo os dados escolidos para treinar o modelo"
   ]
  },
  {
   "cell_type": "code",
   "execution_count": 2,
   "id": "f13a934c-57e8-4644-92d8-0df4b4b119cd",
   "metadata": {},
   "outputs": [],
   "source": [
    "df_prospects_prospects = pd.read_csv(\"dados/df_prospects_prospects.csv\")\n",
    "\n",
    "df_applicants_cv_pt = pd.read_csv(\"dados/df_applicants_cv_pt.csv\")\n",
    "\n",
    "df_vagas_informacoes_basicas = pd.read_csv(\"dados/df_vagas_informacoes_basicas.csv\")\n",
    "df_vagas_perfil_vaga = pd.read_csv(\"dados/df_vagas_perfil_vaga.csv\")"
   ]
  },
  {
   "cell_type": "markdown",
   "id": "45cb6ae0-452b-4337-a893-81b2a8f25dde",
   "metadata": {},
   "source": [
    "#### Removendo as colunas não utilizadas"
   ]
  },
  {
   "cell_type": "code",
   "execution_count": 3,
   "id": "0305545e-3af8-4f1a-82f5-c4a9f0eb50d1",
   "metadata": {},
   "outputs": [],
   "source": [
    "df_prospects_prospects = df_prospects_prospects[[\"codigo_condidato\", \"codigo_vaga\", \"situacao_candidado\"]]\n",
    "df_vagas_informacoes_basicas = df_vagas_informacoes_basicas[[\"codigo_vaga\", \"titulo_vaga\", \"cliente\", \"tipo_contratacao\"]]\n",
    "df_vagas_perfil_vaga = df_vagas_perfil_vaga[[\"codigo_vaga\", \"vaga_especifica_para_pcd\", \"nivel profissional\", \"nivel_academico\", \"nivel_ingles\", \"principais_atividades\", \"competencia_tecnicas_e_comportamentais\"]]"
   ]
  },
  {
   "cell_type": "markdown",
   "id": "15e9d651-f7d4-4cea-be78-ed5039bf4feb",
   "metadata": {},
   "source": [
    "#### Criando um dataset unificado"
   ]
  },
  {
   "cell_type": "code",
   "execution_count": 4,
   "id": "799444ee-96e7-48e7-9297-e581bf10b597",
   "metadata": {},
   "outputs": [
    {
     "data": {
      "text/html": [
       "<div>\n",
       "<style scoped>\n",
       "    .dataframe tbody tr th:only-of-type {\n",
       "        vertical-align: middle;\n",
       "    }\n",
       "\n",
       "    .dataframe tbody tr th {\n",
       "        vertical-align: top;\n",
       "    }\n",
       "\n",
       "    .dataframe thead th {\n",
       "        text-align: right;\n",
       "    }\n",
       "</style>\n",
       "<table border=\"1\" class=\"dataframe\">\n",
       "  <thead>\n",
       "    <tr style=\"text-align: right;\">\n",
       "      <th></th>\n",
       "      <th>codigo_condidato</th>\n",
       "      <th>codigo_vaga</th>\n",
       "      <th>situacao_candidado</th>\n",
       "      <th>titulo_vaga</th>\n",
       "      <th>cliente</th>\n",
       "      <th>tipo_contratacao</th>\n",
       "      <th>vaga_especifica_para_pcd</th>\n",
       "      <th>nivel profissional</th>\n",
       "      <th>nivel_academico</th>\n",
       "      <th>nivel_ingles</th>\n",
       "      <th>principais_atividades</th>\n",
       "      <th>competencia_tecnicas_e_comportamentais</th>\n",
       "      <th>cv_pt</th>\n",
       "    </tr>\n",
       "  </thead>\n",
       "  <tbody>\n",
       "    <tr>\n",
       "      <th>0</th>\n",
       "      <td>25632</td>\n",
       "      <td>4530</td>\n",
       "      <td>Encaminhado ao Requisitante</td>\n",
       "      <td>CONSULTOR CONTROL M</td>\n",
       "      <td>Morris, Moran and Dodson</td>\n",
       "      <td>PJ/Autônomo</td>\n",
       "      <td>Não</td>\n",
       "      <td>Pleno</td>\n",
       "      <td>Ensino Superior Completo</td>\n",
       "      <td>Nenhum</td>\n",
       "      <td>- Experiência comprovada em projetos de control-M</td>\n",
       "      <td>- Experiência comprovada em projetos de control-M</td>\n",
       "      <td>\\ndados pessoais\\nestado civil: casado\\nidade:...</td>\n",
       "    </tr>\n",
       "    <tr>\n",
       "      <th>1</th>\n",
       "      <td>25529</td>\n",
       "      <td>4530</td>\n",
       "      <td>Encaminhado ao Requisitante</td>\n",
       "      <td>CONSULTOR CONTROL M</td>\n",
       "      <td>Morris, Moran and Dodson</td>\n",
       "      <td>PJ/Autônomo</td>\n",
       "      <td>Não</td>\n",
       "      <td>Pleno</td>\n",
       "      <td>Ensino Superior Completo</td>\n",
       "      <td>Nenhum</td>\n",
       "      <td>- Experiência comprovada em projetos de control-M</td>\n",
       "      <td>- Experiência comprovada em projetos de control-M</td>\n",
       "      <td>solteiro, 47 anos\\n\\nestrada meringuava, nº 17...</td>\n",
       "    </tr>\n",
       "    <tr>\n",
       "      <th>2</th>\n",
       "      <td>25364</td>\n",
       "      <td>4531</td>\n",
       "      <td>Contratado pela Decision</td>\n",
       "      <td>2021-2607395-PeopleSoft Application Engine-Dom...</td>\n",
       "      <td>Gonzalez and Sons</td>\n",
       "      <td>PJ/Autônomo</td>\n",
       "      <td>Não</td>\n",
       "      <td>Sênior</td>\n",
       "      <td>Ensino Médio Completo</td>\n",
       "      <td>Nenhum</td>\n",
       "      <td>Key skills required for the job are:\\n\\nPeople...</td>\n",
       "      <td>O recurso Peoplesoft tem como responsabilidade...</td>\n",
       "      <td>\\n\\nárea de atuação: lider de consultoria / ge...</td>\n",
       "    </tr>\n",
       "    <tr>\n",
       "      <th>3</th>\n",
       "      <td>25360</td>\n",
       "      <td>4531</td>\n",
       "      <td>Encaminhado ao Requisitante</td>\n",
       "      <td>2021-2607395-PeopleSoft Application Engine-Dom...</td>\n",
       "      <td>Gonzalez and Sons</td>\n",
       "      <td>PJ/Autônomo</td>\n",
       "      <td>Não</td>\n",
       "      <td>Sênior</td>\n",
       "      <td>Ensino Médio Completo</td>\n",
       "      <td>Nenhum</td>\n",
       "      <td>Key skills required for the job are:\\n\\nPeople...</td>\n",
       "      <td>O recurso Peoplesoft tem como responsabilidade...</td>\n",
       "      <td>informações pessoais\\n estado civil: casado\\n...</td>\n",
       "    </tr>\n",
       "    <tr>\n",
       "      <th>4</th>\n",
       "      <td>26338</td>\n",
       "      <td>4533</td>\n",
       "      <td>Contratado pela Decision</td>\n",
       "      <td>2021-2605708-Microfocus Application Life Cycle...</td>\n",
       "      <td>Barnes-Woods</td>\n",
       "      <td>PJ/Autônomo</td>\n",
       "      <td>Não</td>\n",
       "      <td>Sênior</td>\n",
       "      <td>Ensino Médio Completo</td>\n",
       "      <td>Técnico</td>\n",
       "      <td>Arquiteto\\n\\nFoco na área e automação.\\n\\nRequ...</td>\n",
       "      <td>Arquiteto\\n\\nFoco na área e automação.\\n\\nRequ...</td>\n",
       "      <td>solteiro, brasileiro, 21/06/1987\\nhabilitação ...</td>\n",
       "    </tr>\n",
       "  </tbody>\n",
       "</table>\n",
       "</div>"
      ],
      "text/plain": [
       "   codigo_condidato  codigo_vaga           situacao_candidado  \\\n",
       "0             25632         4530  Encaminhado ao Requisitante   \n",
       "1             25529         4530  Encaminhado ao Requisitante   \n",
       "2             25364         4531     Contratado pela Decision   \n",
       "3             25360         4531  Encaminhado ao Requisitante   \n",
       "4             26338         4533     Contratado pela Decision   \n",
       "\n",
       "                                         titulo_vaga  \\\n",
       "0                                CONSULTOR CONTROL M   \n",
       "1                                CONSULTOR CONTROL M   \n",
       "2  2021-2607395-PeopleSoft Application Engine-Dom...   \n",
       "3  2021-2607395-PeopleSoft Application Engine-Dom...   \n",
       "4  2021-2605708-Microfocus Application Life Cycle...   \n",
       "\n",
       "                    cliente tipo_contratacao vaga_especifica_para_pcd  \\\n",
       "0  Morris, Moran and Dodson      PJ/Autônomo                      Não   \n",
       "1  Morris, Moran and Dodson      PJ/Autônomo                      Não   \n",
       "2         Gonzalez and Sons      PJ/Autônomo                      Não   \n",
       "3         Gonzalez and Sons      PJ/Autônomo                      Não   \n",
       "4              Barnes-Woods      PJ/Autônomo                      Não   \n",
       "\n",
       "  nivel profissional           nivel_academico nivel_ingles  \\\n",
       "0              Pleno  Ensino Superior Completo       Nenhum   \n",
       "1              Pleno  Ensino Superior Completo       Nenhum   \n",
       "2             Sênior     Ensino Médio Completo       Nenhum   \n",
       "3             Sênior     Ensino Médio Completo       Nenhum   \n",
       "4             Sênior     Ensino Médio Completo      Técnico   \n",
       "\n",
       "                               principais_atividades  \\\n",
       "0  - Experiência comprovada em projetos de control-M   \n",
       "1  - Experiência comprovada em projetos de control-M   \n",
       "2  Key skills required for the job are:\\n\\nPeople...   \n",
       "3  Key skills required for the job are:\\n\\nPeople...   \n",
       "4  Arquiteto\\n\\nFoco na área e automação.\\n\\nRequ...   \n",
       "\n",
       "              competencia_tecnicas_e_comportamentais  \\\n",
       "0  - Experiência comprovada em projetos de control-M   \n",
       "1  - Experiência comprovada em projetos de control-M   \n",
       "2  O recurso Peoplesoft tem como responsabilidade...   \n",
       "3  O recurso Peoplesoft tem como responsabilidade...   \n",
       "4  Arquiteto\\n\\nFoco na área e automação.\\n\\nRequ...   \n",
       "\n",
       "                                               cv_pt  \n",
       "0  \\ndados pessoais\\nestado civil: casado\\nidade:...  \n",
       "1  solteiro, 47 anos\\n\\nestrada meringuava, nº 17...  \n",
       "2  \\n\\nárea de atuação: lider de consultoria / ge...  \n",
       "3  informações pessoais\\n estado civil: casado\\n...  \n",
       "4  solteiro, brasileiro, 21/06/1987\\nhabilitação ...  "
      ]
     },
     "execution_count": 4,
     "metadata": {},
     "output_type": "execute_result"
    }
   ],
   "source": [
    "df_unido = pd.merge(df_prospects_prospects, df_vagas_informacoes_basicas, on='codigo_vaga')\n",
    "df_unido = pd.merge(df_unido, df_vagas_perfil_vaga, on='codigo_vaga')\n",
    "df_unido = pd.merge(df_unido, df_applicants_cv_pt, on='codigo_condidato')\n",
    "df_unido.head(5)"
   ]
  },
  {
   "cell_type": "markdown",
   "id": "70efdd63-fcac-41ac-a0f8-3af51dcfe53b",
   "metadata": {},
   "source": [
    "## Limpeza dos dados de treino"
   ]
  },
  {
   "cell_type": "markdown",
   "id": "998ee693-a23f-48f4-8db2-7b8487ef4daf",
   "metadata": {},
   "source": [
    "#### Função para printas as colunas vazias de um DataFrame"
   ]
  },
  {
   "cell_type": "code",
   "execution_count": 5,
   "id": "6fffb357-42b3-4995-b6cb-18a5ea5cb5dd",
   "metadata": {},
   "outputs": [],
   "source": [
    "def print_null_cell(df: pd.DataFrame):\n",
    "    print(f\"Total de linha: {len(df_unido)}\\n\")\n",
    "    print(\"Quantidade de células vazias:\")\n",
    "    for con in df.columns:\n",
    "        qtd_vazias = ((df[con] == '') | (df[con].isnull())).sum()\n",
    "        print(f\"{con}: {qtd_vazias}\")"
   ]
  },
  {
   "cell_type": "code",
   "execution_count": 6,
   "id": "909f96df-b9f7-403e-adce-83595273a0b2",
   "metadata": {},
   "outputs": [
    {
     "name": "stdout",
     "output_type": "stream",
     "text": [
      "Total de linha: 45071\n",
      "\n",
      "Quantidade de células vazias:\n",
      "codigo_condidato: 0\n",
      "codigo_vaga: 0\n",
      "situacao_candidado: 0\n",
      "titulo_vaga: 0\n",
      "cliente: 0\n",
      "tipo_contratacao: 1771\n",
      "vaga_especifica_para_pcd: 4797\n",
      "nivel profissional: 0\n",
      "nivel_academico: 0\n",
      "nivel_ingles: 0\n",
      "principais_atividades: 24\n",
      "competencia_tecnicas_e_comportamentais: 26\n",
      "cv_pt: 2552\n"
     ]
    }
   ],
   "source": [
    "print_null_cell(df_unido)"
   ]
  },
  {
   "cell_type": "code",
   "execution_count": 7,
   "id": "0301931e-962e-46be-abe6-4572118c29d5",
   "metadata": {},
   "outputs": [
    {
     "name": "stdout",
     "output_type": "stream",
     "text": [
      "Total de linha: 45071\n",
      "\n",
      "Quantidade de células vazias:\n",
      "codigo_condidato: 0\n",
      "codigo_vaga: 0\n",
      "situacao_candidado: 0\n",
      "titulo_vaga: 0\n",
      "cliente: 0\n",
      "tipo_contratacao: 1771\n",
      "vaga_especifica_para_pcd: 0\n",
      "nivel profissional: 0\n",
      "nivel_academico: 0\n",
      "nivel_ingles: 0\n",
      "principais_atividades: 24\n",
      "competencia_tecnicas_e_comportamentais: 26\n",
      "cv_pt: 2552\n"
     ]
    }
   ],
   "source": [
    "# Aqui estou presumindo que todas as vagas que tenham o campo \"vaga_especifica_para_pcd\" vazio não são especificas para PCD\n",
    "df_unido['vaga_especifica_para_pcd'] = df_unido['vaga_especifica_para_pcd'].replace('', pd.NA).fillna('Não')\n",
    "print_null_cell(df_unido)"
   ]
  },
  {
   "cell_type": "code",
   "execution_count": 8,
   "id": "bc79746a-c3a0-4b14-bcce-33c75d4f067b",
   "metadata": {},
   "outputs": [
    {
     "name": "stdout",
     "output_type": "stream",
     "text": [
      "Total de linha: 40838\n",
      "\n",
      "Quantidade de células vazias:\n",
      "codigo_condidato: 0\n",
      "codigo_vaga: 0\n",
      "situacao_candidado: 0\n",
      "titulo_vaga: 0\n",
      "cliente: 0\n",
      "tipo_contratacao: 0\n",
      "vaga_especifica_para_pcd: 0\n",
      "nivel profissional: 0\n",
      "nivel_academico: 0\n",
      "nivel_ingles: 0\n",
      "principais_atividades: 0\n",
      "competencia_tecnicas_e_comportamentais: 0\n",
      "cv_pt: 0\n"
     ]
    }
   ],
   "source": [
    "# Aqui estou removendo odas as linhas que tenham células vazias \n",
    "df_unido = df_unido.dropna()\n",
    "print_null_cell(df_unido)"
   ]
  },
  {
   "cell_type": "code",
   "execution_count": 9,
   "id": "8d2b05c1-aee6-49a0-98a3-6858bd9bec75",
   "metadata": {},
   "outputs": [
    {
     "data": {
      "text/plain": [
       "situacao_candidado\n",
       "Prospect                          15276\n",
       "Encaminhado ao Requisitante       12271\n",
       "Inscrito                           3051\n",
       "Não Aprovado pelo Cliente          2605\n",
       "Contratado pela Decision           1953\n",
       "Desistiu                           1852\n",
       "Não Aprovado pelo RH               1506\n",
       "Não Aprovado pelo Requisitante      570\n",
       "Entrevista Técnica                  427\n",
       "Sem interesse nesta vaga            323\n",
       "Entrevista com Cliente              319\n",
       "Em avaliação pelo RH                316\n",
       "Aprovado                            159\n",
       "Contratado como Hunting             152\n",
       "Desistiu da Contratação              46\n",
       "Documentação PJ                       4\n",
       "Documentação CLT                      3\n",
       "Documentação Cooperado                2\n",
       "Recusado                              1\n",
       "Encaminhar Proposta                   1\n",
       "Proposta Aceita                       1\n",
       "Name: count, dtype: int64"
      ]
     },
     "execution_count": 9,
     "metadata": {},
     "output_type": "execute_result"
    }
   ],
   "source": [
    "df_unido[\"situacao_candidado\"].value_counts()"
   ]
  },
  {
   "cell_type": "markdown",
   "id": "f0ba8c34-b6b0-4fd2-8d81-e4dc16b1d22a",
   "metadata": {},
   "source": [
    "#### criando a coluna de gabarito do modelo"
   ]
  },
  {
   "cell_type": "code",
   "execution_count": 10,
   "id": "c6a43145-c42c-45df-9b72-2266b294e4e7",
   "metadata": {},
   "outputs": [
    {
     "data": {
      "text/plain": [
       "situacao_candidado\n",
       "Prospect                    15276\n",
       "sim                         12431\n",
       "não                          4681\n",
       "Inscrito                     3051\n",
       "Contratado pela Decision     1953\n",
       "Desistiu                     1852\n",
       "Entrevista Técnica            427\n",
       "Sem interesse nesta vaga      323\n",
       "Entrevista com Cliente        319\n",
       "Em avaliação pelo RH          316\n",
       "Contratado como Hunting       152\n",
       "Desistiu da Contratação        46\n",
       "Documentação PJ                 4\n",
       "Documentação CLT                3\n",
       "Documentação Cooperado          2\n",
       "Recusado                        1\n",
       "Encaminhar Proposta             1\n",
       "Name: count, dtype: int64"
      ]
     },
     "execution_count": 10,
     "metadata": {},
     "output_type": "execute_result"
    }
   ],
   "source": [
    "df_unido['situacao_candidado'] = df_unido['situacao_candidado'].replace('Proposta Aceita', 'sim')\n",
    "df_unido['situacao_candidado'] = df_unido['situacao_candidado'].replace('Encaminhado ao Requisitante', 'sim')\n",
    "df_unido['situacao_candidado'] = df_unido['situacao_candidado'].replace('Aprovado', 'sim')\n",
    "df_unido['situacao_candidado'] = df_unido['situacao_candidado'].replace('Não Aprovado pelo Cliente', 'não')\n",
    "df_unido['situacao_candidado'] = df_unido['situacao_candidado'].replace('Não Aprovado pelo RH', 'não')\n",
    "df_unido['situacao_candidado'] = df_unido['situacao_candidado'].replace('Não Aprovado pelo Requisitante', 'não')\n",
    "df_unido[\"situacao_candidado\"].value_counts()"
   ]
  },
  {
   "cell_type": "code",
   "execution_count": 11,
   "id": "105806a9-5a8c-4c05-8643-2242012374f1",
   "metadata": {},
   "outputs": [
    {
     "data": {
      "text/plain": [
       "situacao_candidado\n",
       "sim    12431\n",
       "não     4681\n",
       "Name: count, dtype: int64"
      ]
     },
     "execution_count": 11,
     "metadata": {},
     "output_type": "execute_result"
    }
   ],
   "source": [
    "# removendo todas as linha em que o valor da coluna situacao_candidado é diferente de sim ou não\n",
    "df_unido = df_unido[df_unido['situacao_candidado'].isin(['sim', 'não'])]\n",
    "df_unido[\"situacao_candidado\"].value_counts()"
   ]
  },
  {
   "cell_type": "code",
   "execution_count": 12,
   "id": "510eb725-d7d7-4ccb-99e8-ec43544f87b8",
   "metadata": {},
   "outputs": [
    {
     "data": {
      "text/html": [
       "<div>\n",
       "<style scoped>\n",
       "    .dataframe tbody tr th:only-of-type {\n",
       "        vertical-align: middle;\n",
       "    }\n",
       "\n",
       "    .dataframe tbody tr th {\n",
       "        vertical-align: top;\n",
       "    }\n",
       "\n",
       "    .dataframe thead th {\n",
       "        text-align: right;\n",
       "    }\n",
       "</style>\n",
       "<table border=\"1\" class=\"dataframe\">\n",
       "  <thead>\n",
       "    <tr style=\"text-align: right;\">\n",
       "      <th></th>\n",
       "      <th>codigo_condidato</th>\n",
       "      <th>codigo_vaga</th>\n",
       "      <th>perfil_compativel</th>\n",
       "      <th>titulo_vaga</th>\n",
       "      <th>cliente</th>\n",
       "      <th>tipo_contratacao</th>\n",
       "      <th>vaga_especifica_para_pcd</th>\n",
       "      <th>nivel profissional</th>\n",
       "      <th>nivel_academico</th>\n",
       "      <th>nivel_ingles</th>\n",
       "      <th>principais_atividades</th>\n",
       "      <th>competencia_tecnicas_e_comportamentais</th>\n",
       "      <th>cv_pt</th>\n",
       "    </tr>\n",
       "  </thead>\n",
       "  <tbody>\n",
       "    <tr>\n",
       "      <th>0</th>\n",
       "      <td>25632</td>\n",
       "      <td>4530</td>\n",
       "      <td>sim</td>\n",
       "      <td>CONSULTOR CONTROL M</td>\n",
       "      <td>Morris, Moran and Dodson</td>\n",
       "      <td>PJ/Autônomo</td>\n",
       "      <td>Não</td>\n",
       "      <td>Pleno</td>\n",
       "      <td>Ensino Superior Completo</td>\n",
       "      <td>Nenhum</td>\n",
       "      <td>- Experiência comprovada em projetos de control-M</td>\n",
       "      <td>- Experiência comprovada em projetos de control-M</td>\n",
       "      <td>\\ndados pessoais\\nestado civil: casado\\nidade:...</td>\n",
       "    </tr>\n",
       "    <tr>\n",
       "      <th>1</th>\n",
       "      <td>25529</td>\n",
       "      <td>4530</td>\n",
       "      <td>sim</td>\n",
       "      <td>CONSULTOR CONTROL M</td>\n",
       "      <td>Morris, Moran and Dodson</td>\n",
       "      <td>PJ/Autônomo</td>\n",
       "      <td>Não</td>\n",
       "      <td>Pleno</td>\n",
       "      <td>Ensino Superior Completo</td>\n",
       "      <td>Nenhum</td>\n",
       "      <td>- Experiência comprovada em projetos de control-M</td>\n",
       "      <td>- Experiência comprovada em projetos de control-M</td>\n",
       "      <td>solteiro, 47 anos\\n\\nestrada meringuava, nº 17...</td>\n",
       "    </tr>\n",
       "    <tr>\n",
       "      <th>3</th>\n",
       "      <td>25360</td>\n",
       "      <td>4531</td>\n",
       "      <td>sim</td>\n",
       "      <td>2021-2607395-PeopleSoft Application Engine-Dom...</td>\n",
       "      <td>Gonzalez and Sons</td>\n",
       "      <td>PJ/Autônomo</td>\n",
       "      <td>Não</td>\n",
       "      <td>Sênior</td>\n",
       "      <td>Ensino Médio Completo</td>\n",
       "      <td>Nenhum</td>\n",
       "      <td>Key skills required for the job are:\\n\\nPeople...</td>\n",
       "      <td>O recurso Peoplesoft tem como responsabilidade...</td>\n",
       "      <td>informações pessoais\\n estado civil: casado\\n...</td>\n",
       "    </tr>\n",
       "    <tr>\n",
       "      <th>8</th>\n",
       "      <td>26003</td>\n",
       "      <td>4534</td>\n",
       "      <td>não</td>\n",
       "      <td>2021-2605711-Microfocus QTP - UFT Automation T...</td>\n",
       "      <td>Barnes-Woods</td>\n",
       "      <td>PJ/Autônomo</td>\n",
       "      <td>Não</td>\n",
       "      <td>Sênior</td>\n",
       "      <td>Ensino Médio Completo</td>\n",
       "      <td>Técnico</td>\n",
       "      <td>Automação de teste (conhecimento do código)\\n\\...</td>\n",
       "      <td>Automação de teste (conhecimento do código)\\n\\...</td>\n",
       "      <td>solteira – 40 anos – brasileira\\nitaquaquecetu...</td>\n",
       "    </tr>\n",
       "    <tr>\n",
       "      <th>11</th>\n",
       "      <td>21458</td>\n",
       "      <td>4534</td>\n",
       "      <td>sim</td>\n",
       "      <td>2021-2605711-Microfocus QTP - UFT Automation T...</td>\n",
       "      <td>Barnes-Woods</td>\n",
       "      <td>PJ/Autônomo</td>\n",
       "      <td>Não</td>\n",
       "      <td>Sênior</td>\n",
       "      <td>Ensino Médio Completo</td>\n",
       "      <td>Técnico</td>\n",
       "      <td>Automação de teste (conhecimento do código)\\n\\...</td>\n",
       "      <td>Automação de teste (conhecimento do código)\\n\\...</td>\n",
       "      <td>pexperiência\\nfoursys\\nsoftware tester\\nabril ...</td>\n",
       "    </tr>\n",
       "  </tbody>\n",
       "</table>\n",
       "</div>"
      ],
      "text/plain": [
       "    codigo_condidato  codigo_vaga perfil_compativel  \\\n",
       "0              25632         4530               sim   \n",
       "1              25529         4530               sim   \n",
       "3              25360         4531               sim   \n",
       "8              26003         4534               não   \n",
       "11             21458         4534               sim   \n",
       "\n",
       "                                          titulo_vaga  \\\n",
       "0                                 CONSULTOR CONTROL M   \n",
       "1                                 CONSULTOR CONTROL M   \n",
       "3   2021-2607395-PeopleSoft Application Engine-Dom...   \n",
       "8   2021-2605711-Microfocus QTP - UFT Automation T...   \n",
       "11  2021-2605711-Microfocus QTP - UFT Automation T...   \n",
       "\n",
       "                     cliente tipo_contratacao vaga_especifica_para_pcd  \\\n",
       "0   Morris, Moran and Dodson      PJ/Autônomo                      Não   \n",
       "1   Morris, Moran and Dodson      PJ/Autônomo                      Não   \n",
       "3          Gonzalez and Sons      PJ/Autônomo                      Não   \n",
       "8               Barnes-Woods      PJ/Autônomo                      Não   \n",
       "11              Barnes-Woods      PJ/Autônomo                      Não   \n",
       "\n",
       "   nivel profissional           nivel_academico nivel_ingles  \\\n",
       "0               Pleno  Ensino Superior Completo       Nenhum   \n",
       "1               Pleno  Ensino Superior Completo       Nenhum   \n",
       "3              Sênior     Ensino Médio Completo       Nenhum   \n",
       "8              Sênior     Ensino Médio Completo      Técnico   \n",
       "11             Sênior     Ensino Médio Completo      Técnico   \n",
       "\n",
       "                                principais_atividades  \\\n",
       "0   - Experiência comprovada em projetos de control-M   \n",
       "1   - Experiência comprovada em projetos de control-M   \n",
       "3   Key skills required for the job are:\\n\\nPeople...   \n",
       "8   Automação de teste (conhecimento do código)\\n\\...   \n",
       "11  Automação de teste (conhecimento do código)\\n\\...   \n",
       "\n",
       "               competencia_tecnicas_e_comportamentais  \\\n",
       "0   - Experiência comprovada em projetos de control-M   \n",
       "1   - Experiência comprovada em projetos de control-M   \n",
       "3   O recurso Peoplesoft tem como responsabilidade...   \n",
       "8   Automação de teste (conhecimento do código)\\n\\...   \n",
       "11  Automação de teste (conhecimento do código)\\n\\...   \n",
       "\n",
       "                                                cv_pt  \n",
       "0   \\ndados pessoais\\nestado civil: casado\\nidade:...  \n",
       "1   solteiro, 47 anos\\n\\nestrada meringuava, nº 17...  \n",
       "3   informações pessoais\\n estado civil: casado\\n...  \n",
       "8   solteira – 40 anos – brasileira\\nitaquaquecetu...  \n",
       "11  pexperiência\\nfoursys\\nsoftware tester\\nabril ...  "
      ]
     },
     "execution_count": 12,
     "metadata": {},
     "output_type": "execute_result"
    }
   ],
   "source": [
    "# renomeando a coluna \"situacao_candidado\" para \"perfil_compativel\"\n",
    "df_unido = df_unido.rename(columns={\"situacao_candidado\": \"perfil_compativel\"})\n",
    "df_unido.head(5)"
   ]
  },
  {
   "cell_type": "code",
   "execution_count": 13,
   "id": "22bb8c30-4579-4c10-a254-cf343a24e28f",
   "metadata": {},
   "outputs": [],
   "source": [
    "df_unido.to_csv(\"dados/df_final.csv\", index=False)"
   ]
  }
 ],
 "metadata": {
  "kernelspec": {
   "display_name": "Python 3 (ipykernel)",
   "language": "python",
   "name": "python3"
  },
  "language_info": {
   "codemirror_mode": {
    "name": "ipython",
    "version": 3
   },
   "file_extension": ".py",
   "mimetype": "text/x-python",
   "name": "python",
   "nbconvert_exporter": "python",
   "pygments_lexer": "ipython3",
   "version": "3.12.11"
  }
 },
 "nbformat": 4,
 "nbformat_minor": 5
}
