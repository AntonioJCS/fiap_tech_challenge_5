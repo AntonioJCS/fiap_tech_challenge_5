{
 "cells": [
  {
   "cell_type": "code",
   "execution_count": 1,
   "id": "a02599f4-48c9-4703-b9a5-88f5852b0853",
   "metadata": {},
   "outputs": [
    {
     "name": "stderr",
     "output_type": "stream",
     "text": [
      "[nltk_data] Downloading package punkt to /root/nltk_data...\n",
      "[nltk_data]   Package punkt is already up-to-date!\n",
      "[nltk_data] Downloading package stopwords to /root/nltk_data...\n",
      "[nltk_data]   Package stopwords is already up-to-date!\n",
      "[nltk_data] Downloading package punkt_tab to /root/nltk_data...\n",
      "[nltk_data]   Package punkt_tab is already up-to-date!\n"
     ]
    },
    {
     "data": {
      "text/plain": [
       "True"
      ]
     },
     "execution_count": 1,
     "metadata": {},
     "output_type": "execute_result"
    }
   ],
   "source": [
    "import pandas as pd\n",
    "import numpy as np\n",
    "from sklearn.feature_extraction.text import TfidfVectorizer\n",
    "from sklearn.model_selection import train_test_split\n",
    "from sklearn.ensemble import RandomForestClassifier\n",
    "from sklearn.metrics import accuracy_score, f1_score\n",
    "import nltk\n",
    "from nltk.corpus import stopwords\n",
    "from nltk.tokenize import word_tokenize\n",
    "import string\n",
    "import time\n",
    "import joblib\n",
    "\n",
    "nltk.download('punkt')\n",
    "nltk.download('stopwords')\n",
    "nltk.download('punkt_tab')"
   ]
  },
  {
   "cell_type": "code",
   "execution_count": 2,
   "id": "66a62728-0617-4b57-b97d-200443fc9edf",
   "metadata": {},
   "outputs": [
    {
     "data": {
      "text/html": [
       "<div>\n",
       "<style scoped>\n",
       "    .dataframe tbody tr th:only-of-type {\n",
       "        vertical-align: middle;\n",
       "    }\n",
       "\n",
       "    .dataframe tbody tr th {\n",
       "        vertical-align: top;\n",
       "    }\n",
       "\n",
       "    .dataframe thead th {\n",
       "        text-align: right;\n",
       "    }\n",
       "</style>\n",
       "<table border=\"1\" class=\"dataframe\">\n",
       "  <thead>\n",
       "    <tr style=\"text-align: right;\">\n",
       "      <th></th>\n",
       "      <th>codigo_condidato</th>\n",
       "      <th>codigo_vaga</th>\n",
       "      <th>perfil_compativel</th>\n",
       "      <th>titulo_vaga</th>\n",
       "      <th>cliente</th>\n",
       "      <th>tipo_contratacao</th>\n",
       "      <th>vaga_especifica_para_pcd</th>\n",
       "      <th>nivel profissional</th>\n",
       "      <th>nivel_academico</th>\n",
       "      <th>nivel_ingles</th>\n",
       "      <th>principais_atividades</th>\n",
       "      <th>competencia_tecnicas_e_comportamentais</th>\n",
       "      <th>cv_pt</th>\n",
       "    </tr>\n",
       "  </thead>\n",
       "  <tbody>\n",
       "    <tr>\n",
       "      <th>0</th>\n",
       "      <td>25632</td>\n",
       "      <td>4530</td>\n",
       "      <td>sim</td>\n",
       "      <td>CONSULTOR CONTROL M</td>\n",
       "      <td>Morris, Moran and Dodson</td>\n",
       "      <td>PJ/Autônomo</td>\n",
       "      <td>Não</td>\n",
       "      <td>Pleno</td>\n",
       "      <td>Ensino Superior Completo</td>\n",
       "      <td>Nenhum</td>\n",
       "      <td>- Experiência comprovada em projetos de control-M</td>\n",
       "      <td>- Experiência comprovada em projetos de control-M</td>\n",
       "      <td>\\ndados pessoais\\nestado civil: casado\\nidade:...</td>\n",
       "    </tr>\n",
       "    <tr>\n",
       "      <th>1</th>\n",
       "      <td>25529</td>\n",
       "      <td>4530</td>\n",
       "      <td>sim</td>\n",
       "      <td>CONSULTOR CONTROL M</td>\n",
       "      <td>Morris, Moran and Dodson</td>\n",
       "      <td>PJ/Autônomo</td>\n",
       "      <td>Não</td>\n",
       "      <td>Pleno</td>\n",
       "      <td>Ensino Superior Completo</td>\n",
       "      <td>Nenhum</td>\n",
       "      <td>- Experiência comprovada em projetos de control-M</td>\n",
       "      <td>- Experiência comprovada em projetos de control-M</td>\n",
       "      <td>solteiro, 47 anos\\n\\nestrada meringuava, nº 17...</td>\n",
       "    </tr>\n",
       "  </tbody>\n",
       "</table>\n",
       "</div>"
      ],
      "text/plain": [
       "   codigo_condidato  codigo_vaga perfil_compativel          titulo_vaga  \\\n",
       "0             25632         4530               sim  CONSULTOR CONTROL M   \n",
       "1             25529         4530               sim  CONSULTOR CONTROL M   \n",
       "\n",
       "                    cliente tipo_contratacao vaga_especifica_para_pcd  \\\n",
       "0  Morris, Moran and Dodson      PJ/Autônomo                      Não   \n",
       "1  Morris, Moran and Dodson      PJ/Autônomo                      Não   \n",
       "\n",
       "  nivel profissional           nivel_academico nivel_ingles  \\\n",
       "0              Pleno  Ensino Superior Completo       Nenhum   \n",
       "1              Pleno  Ensino Superior Completo       Nenhum   \n",
       "\n",
       "                               principais_atividades  \\\n",
       "0  - Experiência comprovada em projetos de control-M   \n",
       "1  - Experiência comprovada em projetos de control-M   \n",
       "\n",
       "              competencia_tecnicas_e_comportamentais  \\\n",
       "0  - Experiência comprovada em projetos de control-M   \n",
       "1  - Experiência comprovada em projetos de control-M   \n",
       "\n",
       "                                               cv_pt  \n",
       "0  \\ndados pessoais\\nestado civil: casado\\nidade:...  \n",
       "1  solteiro, 47 anos\\n\\nestrada meringuava, nº 17...  "
      ]
     },
     "execution_count": 2,
     "metadata": {},
     "output_type": "execute_result"
    }
   ],
   "source": [
    "df = pd.read_csv(\"dados/df_final.csv\")\n",
    "df.head(2)"
   ]
  },
  {
   "cell_type": "markdown",
   "id": "462e7f69-8ffd-4898-ac24-1a401dc744a3",
   "metadata": {},
   "source": [
    "## Pré-processamento dos dados"
   ]
  },
  {
   "cell_type": "markdown",
   "id": "93051cd4-e56c-4431-90f6-b2632ead8b37",
   "metadata": {},
   "source": [
    "#### Função que remove pontuação, converte para minúsculas e remove stopwords"
   ]
  },
  {
   "cell_type": "code",
   "execution_count": 3,
   "id": "fcd1b11e-9812-4efb-b62b-a6e6827b5919",
   "metadata": {},
   "outputs": [],
   "source": [
    "def preprocess_text(text):\n",
    "    if not isinstance(text, str) or not text.strip():\n",
    "        return ''\n",
    "    text = text.lower()\n",
    "    text = text.translate(str.maketrans('', '', string.punctuation))\n",
    "    tokens = word_tokenize(text)\n",
    "    stop_words = set(stopwords.words('portuguese'))\n",
    "    tokens = [word for word in tokens if word not in stop_words]\n",
    "    return ' '.join(tokens)"
   ]
  },
  {
   "cell_type": "markdown",
   "id": "a53634f6-a1f4-4f88-aba6-3260eb40510b",
   "metadata": {},
   "source": [
    "#### Combina a informação de todas as colunas referentes a vaga em um único texto"
   ]
  },
  {
   "cell_type": "code",
   "execution_count": 4,
   "id": "c5fd27c5-d7e8-4175-a458-db91c323f965",
   "metadata": {},
   "outputs": [],
   "source": [
    "def combine_vaga_info(row):\n",
    "    fields = ['titulo_vaga', 'principais_atividades', 'competencia_tecnicas_e_comportamentais', 'tipo_contratacao',\t\n",
    "              'vaga_especifica_para_pcd', 'nivel profissional',\t'nivel_academico', 'nivel_ingles']\n",
    "    texts = [str(row.get(field, '')) for field in fields]\n",
    "    return ' '.join(texts)"
   ]
  },
  {
   "cell_type": "markdown",
   "id": "356c6d3c-cbbb-435f-835d-9ce5d1878a6d",
   "metadata": {},
   "source": [
    "## Prepara o input do modelo"
   ]
  },
  {
   "cell_type": "code",
   "execution_count": 5,
   "id": "ee27a681-944d-4907-a807-170b0d3647dd",
   "metadata": {},
   "outputs": [],
   "source": [
    "def prepare_features(row):\n",
    "    vaga_text = preprocess_text(combine_vaga_info(row))\n",
    "    curriculo_text = preprocess_text(str(row.get('cv_pt', '')))\n",
    "    return vaga_text + ' ' + curriculo_text"
   ]
  },
  {
   "cell_type": "markdown",
   "id": "68e69e4e-6cc3-4d30-a673-b57f6a3a179b",
   "metadata": {},
   "source": [
    "## Executa o treino do modelo"
   ]
  },
  {
   "cell_type": "code",
   "execution_count": 6,
   "id": "2dcbeb90-9909-402e-bc89-5b9abb99649a",
   "metadata": {},
   "outputs": [],
   "source": [
    "def train_model(df):\n",
    "    # Carregar e preparar dados\n",
    "    df['match'] = df['perfil_compativel'].map({'sim': 1, 'não': 0})\n",
    "    df['features'] = df.apply(prepare_features, axis=1)\n",
    "    \n",
    "    # Verificar se há dados válidos\n",
    "    if df['features'].str.strip().eq('').all():\n",
    "        raise ValueError(\"Nenhum texto válido encontrado após pré-processamento.\")\n",
    "    \n",
    "    # Criar vetores TF-IDF\n",
    "    vectorizer = TfidfVectorizer(max_features=5000)\n",
    "    X = vectorizer.fit_transform(df['features'])\n",
    "    y = df['match']\n",
    "    \n",
    "    # Dividir em treino e teste\n",
    "    X_train, X_test, y_train, y_test = train_test_split(X, y, test_size=0.2, random_state=42)\n",
    "    \n",
    "    # Treinar modelo\n",
    "    model = RandomForestClassifier(n_estimators=100, random_state=42)\n",
    "    model.fit(X_train, y_train)\n",
    "    \n",
    "    # Avaliar modelo\n",
    "    y_pred = model.predict(X_test)\n",
    "    print(f\"Acurácia: {accuracy_score(y_test, y_pred):.2f}\")\n",
    "    print(f\"F1-Score: {f1_score(y_test, y_pred):.2f}\")\n",
    "\n",
    "    # Salvar modelo e vetorizador\n",
    "    joblib.dump(model, \"model_path/model.pkl\")\n",
    "    joblib.dump(vectorizer, \"model_path/vectorizer.pkl\")\n",
    "    \n",
    "    return model, vectorizer"
   ]
  },
  {
   "cell_type": "code",
   "execution_count": 8,
   "id": "27a6b4d5-6728-42ae-b8fe-c76e66b584d5",
   "metadata": {},
   "outputs": [
    {
     "name": "stdout",
     "output_type": "stream",
     "text": [
      "Acurácia: 0.72\n",
      "F1-Score: 0.83\n",
      "Tempo de treino: 111.28 segundos\n",
      "\n"
     ]
    }
   ],
   "source": [
    "inicio = time.time()\n",
    "\n",
    "model, vectorizer = train_model(df)\n",
    "\n",
    "fim = time.time()\n",
    "print(f\"Tempo de treino: {fim - inicio:.2f} segundos\\n\")"
   ]
  },
  {
   "cell_type": "markdown",
   "id": "b8cc01ab-c674-4528-810c-421447643852",
   "metadata": {},
   "source": [
    "## Testando o predict do modelo"
   ]
  },
  {
   "cell_type": "code",
   "execution_count": 9,
   "id": "cc1987f8-db91-45b5-8f71-3913128752c8",
   "metadata": {},
   "outputs": [],
   "source": [
    "model = joblib.load(\"model_path/model.pkl\")\n",
    "vectorizer = joblib.load(\"model_path/vectorizer.pkl\")"
   ]
  },
  {
   "cell_type": "code",
   "execution_count": 13,
   "id": "a6b51e7b-1a33-4cbe-b420-ba324a84a299",
   "metadata": {},
   "outputs": [],
   "source": [
    "def predict_match(vaga_data, curriculo_text):\n",
    "    \"\"\"Faz a predição de match para um novo par vaga-currículo.\"\"\"\n",
    "    # Preparar features\n",
    "    vaga_text = preprocess_text(combine_vaga_info(vaga_data))\n",
    "    curriculo_text = preprocess_text(curriculo_text)\n",
    "    combined_text = vaga_text + ' ' + curriculo_text\n",
    "    \n",
    "    # Verificar se há texto válido\n",
    "    if not combined_text.strip():\n",
    "        return 0.0\n",
    "    \n",
    "    # Transformar em vetores TF-IDF\n",
    "    X = vectorizer.transform([combined_text])\n",
    "    \n",
    "    # Prever probabilidade\n",
    "    probability = model.predict_proba(X)[0][1]  # Probabilidade da classe positiva (match)\n",
    "    return round(probability * 100, 2)"
   ]
  },
  {
   "cell_type": "code",
   "execution_count": 14,
   "id": "f1bceb47-d8ce-4491-ab76-50fced293926",
   "metadata": {},
   "outputs": [
    {
     "name": "stdout",
     "output_type": "stream",
     "text": [
      "Probabilidade de match: 80.0%\n"
     ]
    }
   ],
   "source": [
    "vaga_data = {\n",
    "    'titulo_vaga': 'Consultor SAP HR Pleno',\n",
    "    'principais_atividades': 'Implementação e suporte de sistemas SAP HR',\n",
    "    'competencia_tecnicas_e_comportamentais': 'Experiência em SAP HR',\n",
    "    'tipo_contratacao': 'PJ/Autônomo',\n",
    "    'vaga_especifica_para_pcd': 'não',\n",
    "    'nivel profissional': 'Pleno',\n",
    "    'nivel_academico': 'Ensino Superior Completo',\n",
    "    'nivel_ingles': 'Técnico'\n",
    "}\n",
    "\n",
    "curriculo_text = \"\"\"\n",
    "assistente administrativo\n",
    "santosbatista\n",
    "itapecerica da serra/sp\n",
    "29 anos ▪ brasileiro ▪ casado\n",
    "formação acadêmica\n",
    " bacharel - ciências contábeis\n",
    "centro universitário ítalo brasileiro\n",
    "jul/2015 - dez/2018\n",
    " graduação - gestão financeira\n",
    "centro universitário anhanguera\n",
    "jan/2013 - dez/2014\n",
    "habilidades\n",
    " contas a pagar e receber\n",
    " excel avançado\n",
    " indicadores kpi’s\n",
    " notas fiscais, cfop’s\n",
    " fechamento contábil\n",
    " emissão de boletos\n",
    " guias\n",
    " impostos\n",
    " budget\n",
    " controladoria\n",
    " sistemas integrados:\n",
    "totvs;\n",
    "folha matic;\n",
    "navision\n",
    "resumo profissional\n",
    "profissional com experiência nos departamentos financeiro,\n",
    "contábil, fiscal e controladoria jurídica. elaboração e análise de\n",
    "indicadores kpi’s de resultado, relatórios, guias, gestão de\n",
    "pagamentos, notas fiscais, boletos, fechamento financeiro e\n",
    "contábil fiscal.\n",
    "softwares erp protheus, folha matic, navision, elaw e sapiens,\n",
    "excel avançado, (kpi's, painéis de dashboard e automatização).\n",
    "\"\"\"\n",
    "\n",
    "# Fazer predição\n",
    "probability = predict_match(vaga_data, curriculo_text)\n",
    "print(f\"Probabilidade de match: {probability}%\")"
   ]
  }
 ],
 "metadata": {
  "kernelspec": {
   "display_name": "Python 3 (ipykernel)",
   "language": "python",
   "name": "python3"
  },
  "language_info": {
   "codemirror_mode": {
    "name": "ipython",
    "version": 3
   },
   "file_extension": ".py",
   "mimetype": "text/x-python",
   "name": "python",
   "nbconvert_exporter": "python",
   "pygments_lexer": "ipython3",
   "version": "3.12.11"
  }
 },
 "nbformat": 4,
 "nbformat_minor": 5
}
